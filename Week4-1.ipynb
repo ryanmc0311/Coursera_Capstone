{
 "cells": [
  {
   "cell_type": "markdown",
   "metadata": {},
   "source": [
    "# The Capstone Project - The Battle of Neighborhoods\n",
    "\n",
    "## How to Choose the Best Berlin Borough to Open a Restaurant\n",
    "\n",
    "**Business Problem Section**\n",
    "\n",
    "*Introduction*:\n",
    "\n",
    "Berlin is the Capital of Germany and has the greatest population (3,769,495) which is more than twice the second-most populace city, Hamburg.  Over the past 10 years, Berlin has grown at a rate of over 7%, more than any other city in Germany.  Investment is flowing into Berlin and new businesses are sprouting up across the Boroughs to meet the demand as the face of these neighborhoods change.   \n",
    "\n",
    "Since Reunification in 1990 Berlin has had its ups and downs as many residents left for the West and initial investment floundered in the middle 1990s, leaving many real estate projects limbo.  Berlin embraced its artistic and creative potential during these years drawing creative-types to the city with its opportunities and very low rents. \n",
    "\n",
    "*Business Section*:\n",
    "\n",
    "A family will be relocating from North America to Berlin in order to open a restaurant in one of the neighborhoods. The right location to open up is crucial for this family, so they need data to support their decision. Foursquare location data is a prime source to help this family solve its problems and make the best solution. The family will use the Foursquare data to find areas where the population and competition are at such levels that make it most conducive to open a restaurant in that location. \n",
    "\n",
    "**Data Section**\n",
    "\n",
    "We will use only the foursquare data and a data frame retrieved from Wikipedia.org to solve this problem. We will first retrieve the data frame and clean it to show population, density, and import coordinates into the data frame. We will then import geolocator data to create a map of the Boroughs of Berlin. Next, we import Foursquare data regarding venues in each Borough including: closest, most common, frequency, top ten, and the mean of all types of venues in relation to each Borough. This data will give the family the necessary information to solve where to place their restaurant in conjunction with certain other outside data sources.\n",
    "\n",
    "**Methodology**\n",
    "\n",
    "In this part, I will present 3 main components of the report:\n",
    "\n",
    "1, Data Collection: load all the required information into one single data frame.\n",
    "\n",
    "2, Data Exploration and Understanding: inspect data, clean, extract and analyze all the hidden insights of Data Modeling.\n",
    "\n",
    "3, K-means Clustering: cluster Berlin and nearby businesses, with focus on eateries to see how they group together and reach the final purpose to provide useful accommodation strategies.\n",
    "\n",
    "**Results Section**\n",
    "\n",
    "**Discussion Section**\n",
    "\n",
    "**Conclusion**\n",
    "\n",
    "\n"
   ]
  },
  {
   "cell_type": "code",
   "execution_count": null,
   "metadata": {},
   "outputs": [],
   "source": []
  }
 ],
 "metadata": {
  "kernelspec": {
   "display_name": "Python 3",
   "language": "python",
   "name": "python3"
  },
  "language_info": {
   "codemirror_mode": {
    "name": "ipython",
    "version": 3
   },
   "file_extension": ".py",
   "mimetype": "text/x-python",
   "name": "python",
   "nbconvert_exporter": "python",
   "pygments_lexer": "ipython3",
   "version": "3.7.6"
  }
 },
 "nbformat": 4,
 "nbformat_minor": 4
}
